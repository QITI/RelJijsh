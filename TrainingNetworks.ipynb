{
 "cells": [
  {
   "cell_type": "markdown",
   "metadata": {},
   "source": [
    "# Training \n",
    "Use this file to train networks where mu is fixed. classesmu.py is modified from its original version by Yi Hong Teoh, so that $\\mu$ is fixed. "
   ]
  },
  {
   "cell_type": "code",
   "execution_count": null,
   "metadata": {},
   "outputs": [],
   "source": [
    "import sys\n",
    "sys.path.insert(0, '/Users/marinadrygala/Desktop/Marina/JijCalculator')\n",
    "import classesmu\n",
    "from classesmu import BatchSimulatedSpinLattice as bsslmu\n",
    "import torch\n",
    "import torch.nn as nn\n",
    "from torch.utils.data import Dataset, DataLoader\n",
    "from torch.autograd import Variable\n",
    "import torch.nn.functional as F\n",
    "from torch.utils.data import Dataset, DataLoader\n",
    "import numpy as np\n",
    "import pickle\n",
    "import time\n",
    "import ic_functions\n",
    "from ic_functions import chain, circle\n",
    "import neural_nets\n",
    "from neural_nets import Net"
   ]
  },
  {
   "cell_type": "markdown",
   "metadata": {},
   "source": [
    "## Instructions\n",
    "To train a network on a given dataset enter the file path for the desired file under the variable data_file, as well as the number of training examples from that file you wish to train with under the variable data_size."
   ]
  },
  {
   "cell_type": "code",
   "execution_count": null,
   "metadata": {},
   "outputs": [],
   "source": [
    "device = torch.device(\"cpu\")\n",
    "\n",
    "\"\"\"Specify the path where the data is stored. The required items from the file are then stored are variables.\"\"\"\n",
    "\n",
    "data_file = '/Users/marinadrygala/Desktop/Marina/mu_fixed/Data/Data_N=13_m=13_Epsilon=0.04_Size=25000.pickle'\n",
    "d = pickle.load(open(data_file, \"rb\"))\n",
    "ic = d['ic']\n",
    "m=d['m']\n",
    "mu=d['mu']\n",
    "N = ic.n\n",
    "test_set = d['test']\n",
    "\n",
    "\n",
    "\"\"\"The size of the training set should be specified by the parameter data_size\"\"\"\n",
    "data_size = 25000"
   ]
  },
  {
   "cell_type": "code",
   "execution_count": null,
   "metadata": {},
   "outputs": [],
   "source": [
    "\"\"\"Creating a dataset for pytorch\"\"\"\n",
    "class Chain_Data(Dataset):\n",
    "    'Characterizes an ionchain dataset for PyTorch'\n",
    "    \n",
    "    def __init__(self):\n",
    "        'Initialization'\n",
    "        self.train_inputs = d['inputs'][:data_size]\n",
    "        self.train_outputs = d['normalized_outputs'][:data_size]\n",
    "        \n",
    "    def __len__(self):\n",
    "        'Denotes the total number of samples'\n",
    "        return len(self.train_inputs)\n",
    " \n",
    "\n",
    "    def __getitem__(self, index):\n",
    "        'Generates one sample of data'\n",
    "        return (self.train_inputs[index],self.train_outputs[index])\n"
   ]
  },
  {
   "cell_type": "markdown",
   "metadata": {},
   "source": [
    "## Instructions C'td\n",
    "Change the batch_size parameter as desired."
   ]
  },
  {
   "cell_type": "code",
   "execution_count": null,
   "metadata": {},
   "outputs": [],
   "source": [
    "batch_size = 100\n",
    "\n",
    "training_data = Chain_Data()\n",
    "training_loader = DataLoader(dataset=training_data, batch_size=batch_size,\n",
    "                             shuffle=True)\n",
    "\n"
   ]
  },
  {
   "cell_type": "markdown",
   "metadata": {},
   "source": [
    "## Instructions C'td\n",
    "Specify the desired size for the hidden layer  as well as the number of epochs if training for a fixed number of epochs. Can also uncomment and modify the section below where it says 'Loading previous model for more training' to continue training on a saved model."
   ]
  },
  {
   "cell_type": "code",
   "execution_count": null,
   "metadata": {},
   "outputs": [],
   "source": [
    "\"\"\"Specify network architecture. The Net class is imported from neural_nets. If the model inputs are the Jijs and the\n",
    "outputs the Omegas then the sizes of the input and output layers is fixed.\"\"\"\n",
    "input_size = int(N*(N-1)/2)\n",
    "output_size = N*m\n",
    "hidden_size = 128*(N-2)\n",
    "model = Net(input_size, hidden_size, output_size, 1)\n",
    "model.double()\n",
    "\"\"\"Specify epochs parameter if training for a set number of epochs.\"\"\"\n",
    "#epochs = 50\n",
    "\n",
    "\"\"\"Specify the optimizer used as well as the model if a previously saved model will be used loaded for more training\"\"\"\n",
    "optimizer = torch.optim.Adam(model.parameters())\n",
    "\n",
    "\"\"\"Code to Load a model and continue training\"\"\"\n",
    "# path = '/home/gherkin/Marina/N=3/test_1/Epoch_32.pt'\n",
    "# model = Net(input_size, hidden_size, output_size)\n",
    "# checkpoint = torch.load(path)\n",
    "# model.load_state_dict(checkpoint['model_state_dict'])\n",
    "# optimizer.load_state_dict(checkpoint['optimizer_state_dict'])\n",
    "# for state in optimizer.state.values():\n",
    "#     for k, v in state.items():\n",
    "#         if isinstance(v, torch.Tensor):\n",
    "#             state[k] = v.double()\n",
    "\n",
    "\"\"\"Specify the loss function being used.\"\"\"\n",
    "criterion = nn.MSELoss()\n",
    "\n",
    "\n",
    "model.double()\n",
    "model = model.to(device)\n"
   ]
  },
  {
   "cell_type": "markdown",
   "metadata": {},
   "source": [
    "## Instructions C'td\n",
    "\n",
    "Option 1:\n",
    "Train for a fixed number of epochs\n",
    "\n",
    "Option 2:\n",
    "Train until the error on the test set is below a desired threshold value. Where the error on the test set is defined as the percentage difference between the true $J_{i,j}$ value and the on given by the network predictions."
   ]
  },
  {
   "cell_type": "code",
   "execution_count": null,
   "metadata": {},
   "outputs": [],
   "source": [
    "t=time.time()\n",
    "losses=[]\n",
    "errors=[]\n",
    "\n",
    "\"\"\"Option 2\"\"\"\n",
    "epoch=0\n",
    "\n",
    "Error = float('inf')\n",
    "while Error>0.25:\n",
    "    model.train()\n",
    "    for batch, (Jij, Omega) in enumerate(training_loader):\n",
    "        optimizer.zero_grad()\n",
    "        Omega_pred = model(Jij)\n",
    "        Jij_pred = bsslmu(ic, mu, Omega_pred.view(batch_size,N,m), dev=device).normalize()\n",
    "        loss = criterion(Jij, Jij_pred)\n",
    "        loss.backward()\n",
    "        optimizer.step()\n",
    "    losses.append(loss.item())\n",
    "    \n",
    "    model.eval()\n",
    "    Omega_pred = model(test_set).view(test_set.size()[0],N,m)\n",
    "    Jij_pred = bsslmu(ic, mu, Omega_pred,dev=device).normalize()\n",
    "    Error = torch.mean(torch.abs(test_set-Jij_pred))*100\n",
    "    errors.append(Error.item())\n",
    "    \n",
    "    print ('Epoch [{}], Loss: {:.4f}, Test Error: {}'.format(epoch+1, loss.item(), round(Error.item(),4)))\n",
    "    epoch+=1\n",
    "elapsed_time = time.time()-t\n",
    "print('Total Time: {}'.format(elapsed_time))"
   ]
  },
  {
   "cell_type": "code",
   "execution_count": null,
   "metadata": {},
   "outputs": [],
   "source": [
    "\"\"\"It is often helpful to visualize the network outputs, as well as the intented Jijs and those produced by the\n",
    "predictions. This code works for after network is trained.\"\"\"\n",
    "print('Test Set:\\n',test_set)\n",
    "print('Jijs give by Omegas predicted for test set:\\n', Jij_pred)\n",
    "print('Mean test set error:\\n', Error.item())\n"
   ]
  },
  {
   "cell_type": "markdown",
   "metadata": {},
   "source": [
    "## Instructions C'td\n",
    "Input the desired file path for which to save the trained network to into the variable named saved_data_file."
   ]
  },
  {
   "cell_type": "code",
   "execution_count": null,
   "metadata": {},
   "outputs": [],
   "source": [
    "saved_data_file = '/Users/marinadrygala/Desktop/Marina/mu_fixed/non_norm/N={}/Data_Size_{}_Error_{}_Time_{}_Epochs_{}.pt'.format(N,data_size,round(Error.item(),4),round(elapsed_time,2),epoch+1)\n",
    "\n",
    "d['epoch'] = epoch\n",
    "d['model_state_dict'] = model.state_dict()\n",
    "d['optimizer_state_dict'] = optimizer.state_dict()                                                                                                                                    \n",
    "d['losses'] = losses\n",
    "d['errors'] = errors\n",
    "d['input_size'] = input_size\n",
    "d['hidden_size'] = hidden_size\n",
    "d['output_size'] = output_size\n",
    "d['Omega_restrictions'] = Omega_pred.size(1)\n",
    "\n",
    "                                                                                                                                    \n",
    "torch.save(d, saved_data_file)"
   ]
  },
  {
   "cell_type": "code",
   "execution_count": null,
   "metadata": {},
   "outputs": [],
   "source": []
  },
  {
   "cell_type": "code",
   "execution_count": null,
   "metadata": {},
   "outputs": [],
   "source": []
  },
  {
   "cell_type": "code",
   "execution_count": null,
   "metadata": {},
   "outputs": [],
   "source": []
  },
  {
   "cell_type": "code",
   "execution_count": null,
   "metadata": {},
   "outputs": [],
   "source": []
  }
 ],
 "metadata": {
  "kernelspec": {
   "display_name": "Python 3",
   "language": "python",
   "name": "python3"
  },
  "language_info": {
   "codemirror_mode": {
    "name": "ipython",
    "version": 3
   },
   "file_extension": ".py",
   "mimetype": "text/x-python",
   "name": "python",
   "nbconvert_exporter": "python",
   "pygments_lexer": "ipython3",
   "version": "3.7.0"
  }
 },
 "nbformat": 4,
 "nbformat_minor": 2
}
