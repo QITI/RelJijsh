{
 "cells": [
  {
   "cell_type": "markdown",
   "metadata": {},
   "source": [
    "# Inverting the Formula for the Ising Coupling Matrix \n",
    "\n",
    "## Notes on Network Performance\n",
    "\n",
    "Currently the parameters $\\mu$ and $\\Omega$ are taken from a uniform distribution. The output activations will also lie in the (0,1) interval. The expected distance between two values drawn from a uniform [0,1] distribution is $\\frac{1}{3}$. Since we have $n^2+n$ parameters for an ion chain of size n, we get that if the network is outputting just a guess that the cost should be approximately $\\frac{n^2+n}{6}$.(since we are currently using a quadratic cost function)\n",
    "\n",
    "For a network with n=3 I have been able to get a cost of just under a quarter of this value for my synthetic data set up to this point.\n",
    "I am still researching ways to improve hyperparameter selection as well as improved network architecture.\n",
    "\n",
    "One question I have is to evaluate what is a good cost value for the test set and what is not. And whether or not it is a good physical representation of the system to have the parameters taken from a uniform distribution."
   ]
  },
  {
   "cell_type": "code",
   "execution_count": null,
   "metadata": {},
   "outputs": [],
   "source": [
    "import ionchain\n",
    "import classes\n",
    "import pickle\n",
    "import numpy as np\n",
    "import network\n",
    "import network2\n",
    "% matplotlib inline"
   ]
  },
  {
   "cell_type": "markdown",
   "metadata": {},
   "source": [
    "## Functions to Model the Physical System\n",
    "These functions, Lambe_Dicke J_ij1 and J_ij used to make the necessary calculations to model an instance of an ion chain."
   ]
  },
  {
   "cell_type": "code",
   "execution_count": null,
   "metadata": {},
   "outputs": [],
   "source": [
    "def Lamb_Dicke(ic):\n",
    "    \"\"\"Computes Lamb-Dicke parameters for a trapped ion chain \n",
    "    \n",
    "    Args:\n",
    "        ic (Object) - an instance of a trapped ion chain\n",
    "        \n",
    "    Returns:\n",
    "        An nxn matrix where n is the number of ions in the ion chain.\n",
    "        The i,mth entry of the matrix corresponds to the Lambe-Dicke\n",
    "        parameter eta[i,m] which sets the scale for the coupling between\n",
    "        spin i and mode m.\n",
    "    \"\"\"\n",
    "    deltak = 2*1.7699*10**7\n",
    "    M = 2.8395 * 10**(-25)\n",
    "    hbar = 1.0546e-34\n",
    "    n = ic.n\n",
    "    b_ij = ic.x_eigvecs\n",
    "    omega_m = ic.x_freqs\n",
    "    eta = np.empty([n,n])\n",
    "    for m in range(n):\n",
    "        for i in range(n):\n",
    "            eta[i,m] = b_ij[i,m]*deltak*((hbar/(2*M*omega_m[m]))**0.5)\n",
    "    return eta"
   ]
  },
  {
   "cell_type": "code",
   "execution_count": null,
   "metadata": {},
   "outputs": [],
   "source": [
    "def J_ij1(mu, Rabi_freq, ic):\n",
    "    \"\"\"Computes spin-spin coupling beteen atoms in a trapped ion\n",
    "    chain with global beatnote detuning. \n",
    "    \n",
    "    Args:\n",
    "        mu(float) - global beatnote detuning parameter\n",
    "        ic (Object) - an instance of a trapped ion chain\n",
    "        Rabi_freq(An 1Xn vector of floats, where n is number of ions\n",
    "        in the chain) \n",
    "            - containing where the ith entry is the single spin Rabi\n",
    "            frequency of atom i\n",
    "        \n",
    "    Returns:\n",
    "        An nxn matrix where n is the number of ions in the ion chain.\n",
    "        The i,jth is the spin-spin coupling beteen atoms i and j in the\n",
    "        ion chain.\n",
    "    \"\"\"\n",
    "    n = ic.n\n",
    "    eta = Lamb_Dicke(ic)\n",
    "    omega_m = ic.x_freqs\n",
    "    J = np.empty((n,n))\n",
    "    for i in range(n):\n",
    "        J[i,i] = 0\n",
    "        for j in range(i+1,n):\n",
    "            J[i,j] = Rabi_freq[i]*Rabi_freq[j]* np.sum(eta[i, :] * eta[j, :] * omega_m[:] /(np.full((1,n),mu)**2 - omega_m[:]**2))\n",
    "    return J"
   ]
  },
  {
   "cell_type": "code",
   "execution_count": null,
   "metadata": {},
   "outputs": [],
   "source": [
    "def J_ij(mus, Rabi_freq_matrix, ic):\n",
    "    n = ic.n\n",
    "    eta = Lamb_Dicke(ic)\n",
    "    omega_m = ic.x_freqs\n",
    "    F = np.empty((n, n, len(mus)))\n",
    "    for i in range(n):\n",
    "        for j in range(n):\n",
    "            for m in range(len(mus)):\n",
    "                F[i, j, m] = np.sum(eta[i, :] * eta[j, :] * omega_m[:] /\n",
    "                                    (mus[m]**2 - omega_m[:]**2))\n",
    "    J = np.empty((n, n))\n",
    "    for i in range(n):\n",
    "        J[i, i] = 0\n",
    "        for j in range(i + 1, n):\n",
    "            J[i, j] = np.sum(Rabi_freq_matrix[i, :] * Rabi_freq_matrix[j, :] * F[i, j, :])\n",
    "            J[j, i] = J[i, j]\n",
    "    return J"
   ]
  },
  {
   "cell_type": "markdown",
   "metadata": {},
   "source": [
    "## Generating Synthetic Data\n",
    "The functions test_data and create_data_file are used to generate synthetic data for training, testing, and validation.\n",
    "\n",
    "To create a synthetic data set one must just modify the code in the cell below the one where these functions are defined."
   ]
  },
  {
   "cell_type": "code",
   "execution_count": null,
   "metadata": {},
   "outputs": [],
   "source": [
    "def test_data(ic, data_size):\n",
    "    \"\"\"Generates training, test and validation data for a \n",
    "    particular ion chain ic. The function returns 3 tuples corresponding \n",
    "    to each data set. Each tuple contains 2 items. The first is the J_ij\n",
    "    values for the system in vectorized form(by row). If n is the size of\n",
    "    the ion chain, the second contains a vector whose first n entires\n",
    "    are the parameters mu and the remaining entires are the vectorized\n",
    "    form of the Rabi frequency matrix\n",
    "    \n",
    "    Arguments:\n",
    "    ic(Object from IonChain Class)-the ion chain from which to construct\n",
    "    data from\n",
    "    data_size(Int)-desired data size\"\"\"\n",
    "    n = ic.n\n",
    "    np.random.seed(123)\n",
    "    \n",
    "    # Generate random values for the Rabi matricies and detunings(the first mu_size values correspond\n",
    "    #to mu and the rest to the Rabi frequencies.\n",
    "    # The size of the ion chain will determine the number of output values in the network.\n",
    "    data = []\n",
    "    for i in range (0, data_size):\n",
    "        mu = np.random.uniform(low=0, high=1, size=(n,1))\n",
    "        Rabi = np.random.uniform(low=0, high=1, size=(n,n))     \n",
    "    # For each set of parameters y we generate corresponding Ising coupling matrix J which\n",
    "    # will be our input parameters for the neural network\n",
    "        J = J_ij(mu, Rabi, ic)\n",
    "        x = np.reshape(J,(n**2,1))\n",
    "        y = np.concatenate((mu, np.reshape(Rabi,(n**2,1))), axis=0)\n",
    "        data.append((x,y))  \n",
    "    \n",
    "    # Return the dataset in pairs of x,y for train/test/validation sets.\n",
    "    return data\n",
    "\n",
    "def create_data_file(filename, ic, data_size):\n",
    "    \"\"\"Creates a pickled file containing synthetic test data.\n",
    "    Arguments:\n",
    "    filename(string)-desired filename\n",
    "    ic(Object from IonChain Class)-the ion chain from which to construct\n",
    "    data from\n",
    "    data_size(Int)-desired data size\"\"\"\n",
    "    data = test_data(ic, data_size)\n",
    "    f = open(filename, 'wb')\n",
    "    pickle.dump(data, f)\n",
    "    f.close()\n",
    "    "
   ]
  },
  {
   "cell_type": "code",
   "execution_count": null,
   "metadata": {},
   "outputs": [],
   "source": [
    "ionchain3 = ionchain.IonChain(3,[5,1])\n",
    "#create_data_file('chain_len3.pickle',ionchain3,100000)"
   ]
  },
  {
   "cell_type": "markdown",
   "metadata": {},
   "source": [
    "## Training and Validation\n",
    "The following code is used to define a create a neural network and its architecture, using a modified version of Micheal Nielsons network2.py file, then train it. After running this code the output will currently be the cost for the training and test data at the end of each epoch stored in an array. Along with a plot for visualization.\n"
   ]
  },
  {
   "cell_type": "code",
   "execution_count": null,
   "metadata": {},
   "outputs": [],
   "source": [
    "net = network2.Network([9,100,12])\n",
    "data = pickle.load(open('chain_len3.pickle', \"rb\"))\n",
    "# train_data = data[:int(len(data)*0.8)]\n",
    "#test_data = data[int(len(data)*0.8):]\n",
    "#train_data = data[:1000]\n",
    "#test_data = data[1000:1100]\n",
    "#net.SGD(train_data, 1000, 10, 0.001,lmbda = 0, evaluation_data=test_data,eta_update=0)\n"
   ]
  },
  {
   "cell_type": "markdown",
   "metadata": {},
   "source": [
    "## Testing\n",
    "The following code can be modified and used for testing."
   ]
  },
  {
   "cell_type": "code",
   "execution_count": null,
   "metadata": {},
   "outputs": [],
   "source": [
    "#net.save('Network_with_cost_0.4_for_n=3.txt')"
   ]
  },
  {
   "cell_type": "code",
   "execution_count": null,
   "metadata": {},
   "outputs": [],
   "source": [
    "net1 = network2.load('Network_with_cost_0.4_for_n=3.txt')"
   ]
  },
  {
   "cell_type": "code",
   "execution_count": null,
   "metadata": {},
   "outputs": [],
   "source": [
    "net1.total_cost_no_reg(data)"
   ]
  }
 ],
 "metadata": {
  "kernelspec": {
   "display_name": "Python 3",
   "language": "python",
   "name": "python3"
  },
  "language_info": {
   "codemirror_mode": {
    "name": "ipython",
    "version": 3
   },
   "file_extension": ".py",
   "mimetype": "text/x-python",
   "name": "python",
   "nbconvert_exporter": "python",
   "pygments_lexer": "ipython3",
   "version": "3.6.5"
  }
 },
 "nbformat": 4,
 "nbformat_minor": 2
}
