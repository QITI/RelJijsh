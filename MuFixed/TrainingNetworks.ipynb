{
 "cells": [
  {
   "cell_type": "markdown",
   "metadata": {},
   "source": [
    "# Training \n",
    "Use this file to train networks where mu is fixed. classesmu.py is modified from its original version by Yi Hong Teoh, so that one need just specify one value for $\\mu$. "
   ]
  },
  {
   "cell_type": "code",
   "execution_count": 17,
   "metadata": {},
   "outputs": [],
   "source": [
    "import sys\n",
    "sys.path.insert(0, '/Users/marinadrygala/Desktop/Marina/')\n",
    "import classesmu\n",
    "from classesmu import BatchSimulatedSpinLattice as bsslmu\n",
    "import torch\n",
    "import torch.nn as nn\n",
    "from torch.utils.data import Dataset, DataLoader\n",
    "from torch.autograd import Variable\n",
    "import torch.nn.functional as F\n",
    "from torch.utils.data import Dataset, DataLoader\n",
    "import numpy as np\n",
    "import pickle\n",
    "import time\n",
    "import ic_functions\n",
    "from ic_functions import chain, circle\n",
    "import neural_nets\n",
    "from neural_nets import Net"
   ]
  },
  {
   "cell_type": "markdown",
   "metadata": {},
   "source": [
    "## Instructions\n",
    "To train a network on a given dataset enter the file path for the desired file under the variable data_file, as well as the number of training examples from that file you wish to train with under the variable data_size."
   ]
  },
  {
   "cell_type": "code",
   "execution_count": 18,
   "metadata": {},
   "outputs": [],
   "source": [
    "use_cuda = torch.cuda.is_available()\n",
    "device = torch.device(\"cuda\" if use_cuda else \"cpu\")\n",
    "\n",
    "\"\"\"Specify the path where the data is stored. The required items from the file are then stored are variables.\"\"\"\n",
    "\n",
    "data_file = '/Users/marinadrygala/Desktop/Marina/mu_fixed/Data/Data_N=4_Epsillon=0.27_Size=180984.pickle'\n",
    "d = pickle.load(open(data_file, \"rb\"))\n",
    "ic = d['ic']\n",
    "m=d['m']\n",
    "mu=d['mu']\n",
    "N = ic.n\n",
    "test_set = d['test']\n",
    "\n",
    "\n",
    "\"\"\"The size of the training set should be specified by the parameter data_size\"\"\"\n",
    "data_size = 25000"
   ]
  },
  {
   "cell_type": "code",
   "execution_count": null,
   "metadata": {},
   "outputs": [],
   "source": []
  },
  {
   "cell_type": "code",
   "execution_count": 19,
   "metadata": {},
   "outputs": [],
   "source": [
    "\"\"\"Creating a dataset for pytorch\"\"\"\n",
    "class Chain_Data(Dataset):\n",
    "    'Characterizes an ionchain dataset for PyTorch'\n",
    "    \n",
    "    def __init__(self):\n",
    "        'Initialization'\n",
    "        self.train_inputs = d['inputs'][:data_size]\n",
    "        self.train_outputs = d['outputs'][:data_size]\n",
    "        \n",
    "    def __len__(self):\n",
    "        'Denotes the total number of samples'\n",
    "        return len(self.train_inputs)\n",
    " \n",
    "\n",
    "    def __getitem__(self, index):\n",
    "        'Generates one sample of data'\n",
    "        return (self.train_inputs[index],self.train_outputs[index])\n"
   ]
  },
  {
   "cell_type": "markdown",
   "metadata": {},
   "source": [
    "## Instructions C'td\n",
    "Change the batch_size parameter as desired."
   ]
  },
  {
   "cell_type": "code",
   "execution_count": 20,
   "metadata": {},
   "outputs": [],
   "source": [
    "batch_size = 100\n",
    "\n",
    "training_data = Chain_Data()\n",
    "training_loader = DataLoader(dataset=training_data, batch_size=batch_size,\n",
    "                             shuffle=True)\n",
    "\n"
   ]
  },
  {
   "cell_type": "markdown",
   "metadata": {},
   "source": [
    "## Instructions C'td\n",
    "Specify the desired size for the hidden layer  as well as the number of epochs if training for a fixed number of epochs. Can also uncomment and modify the section below where it says 'Loading previous model for more training' to continue training on a saved model."
   ]
  },
  {
   "cell_type": "code",
   "execution_count": 21,
   "metadata": {},
   "outputs": [],
   "source": [
    "\"\"\"Specify network architecture. The Net class is imported from neural_nets. If the model inputs are the Jijs and the\n",
    "outputs the Omegas then the sizes of the input and output layers is fixed.\"\"\"\n",
    "input_size = int(N*(N-1)/2)\n",
    "output_size = N*m\n",
    "hidden_size = 128*(N-2)\n",
    "model = Net(input_size, hidden_size, output_size).to(device)\n",
    "model.double()\n",
    "\"\"\"Specify epochs parameter if training for a set number of epochs.\"\"\"\n",
    "epochs = 50\n",
    "\n",
    "\"\"\"Specify the optimizer used as well as the model if a previously saved model will be used loaded for more training\"\"\"\n",
    "optimizer = torch.optim.Adam(model.parameters())\n",
    "\n",
    "##Loading previous model for more training\n",
    "# path = '/home/gherkin/Marina/N=3/test_1/Epoch_32.pt'\n",
    "# model = Net(input_size, hidden_size, output_size)\n",
    "# checkpoint = torch.load(path)\n",
    "# model.load_state_dict(checkpoint['model_state_dict'])\n",
    "# optimizer.load_state_dict(checkpoint['optimizer_state_dict'])\n",
    "# for state in optimizer.state.values():\n",
    "#     for k, v in state.items():\n",
    "#         if isinstance(v, torch.Tensor):\n",
    "#             state[k] = v.double()\n",
    "\n",
    "\"\"\"Specify the loss function being used.\"\"\"\n",
    "criterion = nn.MSELoss()\n",
    "\n",
    "\n",
    "model.double()\n",
    "model = model.to(device)\n"
   ]
  },
  {
   "cell_type": "markdown",
   "metadata": {},
   "source": [
    "## Instructions C'td\n",
    "\n",
    "Option 1:\n",
    "Train for a fixed number of epochs\n",
    "\n",
    "Option 2:\n",
    "Train until the error on the test set is below a desired threshold value. Where the error on the test set is defined as the percentage difference between the true $J_{i,j}$ value and the on given by the network predictions."
   ]
  },
  {
   "cell_type": "code",
   "execution_count": 23,
   "metadata": {},
   "outputs": [
    {
     "name": "stdout",
     "output_type": "stream",
     "text": [
      "Epoch [1], Loss: 538.2577, Test Error: 44.6185\n",
      "Epoch [2], Loss: 543.7800, Test Error: 41.9366\n",
      "Epoch [3], Loss: 518.3958, Test Error: 45.1956\n",
      "Epoch [4], Loss: 554.7560, Test Error: 50.5803\n",
      "Epoch [5], Loss: 566.5651, Test Error: 37.6129\n",
      "Epoch [6], Loss: 514.4138, Test Error: 44.236\n",
      "Epoch [7], Loss: 544.8864, Test Error: 48.3504\n",
      "Epoch [8], Loss: 538.2360, Test Error: 35.2897\n",
      "Epoch [9], Loss: 529.4975, Test Error: 51.0636\n",
      "Epoch [10], Loss: 535.1819, Test Error: 46.0832\n",
      "Epoch [11], Loss: 528.9104, Test Error: 52.9685\n",
      "Epoch [12], Loss: 535.6420, Test Error: 26.8858\n",
      "Epoch [13], Loss: 531.5771, Test Error: 35.9331\n",
      "Epoch [14], Loss: 534.0310, Test Error: 35.2995\n",
      "Epoch [15], Loss: 536.7645, Test Error: 47.2922\n",
      "Epoch [16], Loss: 545.9149, Test Error: 39.2714\n",
      "Epoch [17], Loss: 535.2150, Test Error: 43.8037\n",
      "Epoch [18], Loss: 531.2017, Test Error: 47.6329\n",
      "Epoch [19], Loss: 517.2136, Test Error: 42.5098\n",
      "Epoch [20], Loss: 560.7607, Test Error: 37.6097\n",
      "Epoch [21], Loss: 533.0706, Test Error: 44.4565\n",
      "Epoch [22], Loss: 510.5972, Test Error: 44.4157\n",
      "Epoch [23], Loss: 508.4251, Test Error: 37.3738\n",
      "Epoch [24], Loss: 533.0342, Test Error: 45.8595\n",
      "Epoch [25], Loss: 524.3026, Test Error: 39.0595\n",
      "Epoch [26], Loss: 543.9725, Test Error: 35.7436\n",
      "Epoch [27], Loss: 540.7960, Test Error: 32.5383\n",
      "Epoch [28], Loss: 541.8389, Test Error: 42.2447\n",
      "Epoch [29], Loss: 523.4545, Test Error: 48.5188\n",
      "Epoch [30], Loss: 528.3919, Test Error: 45.1942\n",
      "Epoch [31], Loss: 548.0895, Test Error: 42.411\n",
      "Epoch [32], Loss: 531.5778, Test Error: 38.6893\n",
      "Epoch [33], Loss: 538.9651, Test Error: 38.2203\n",
      "Epoch [34], Loss: 559.0757, Test Error: 41.9429\n",
      "Epoch [35], Loss: 545.1511, Test Error: 30.8688\n",
      "Epoch [36], Loss: 537.1010, Test Error: 40.5122\n",
      "Epoch [37], Loss: 528.3824, Test Error: 39.8683\n",
      "Epoch [38], Loss: 517.1698, Test Error: 44.4763\n",
      "Epoch [39], Loss: 520.1948, Test Error: 41.4644\n",
      "Epoch [40], Loss: 537.4963, Test Error: 41.5595\n",
      "Epoch [41], Loss: 554.7392, Test Error: 39.2779\n",
      "Epoch [42], Loss: 529.1777, Test Error: 33.1553\n",
      "Epoch [43], Loss: 544.5328, Test Error: 33.0521\n",
      "Epoch [44], Loss: 528.1916, Test Error: 36.2687\n",
      "Epoch [45], Loss: 561.7016, Test Error: 41.7892\n",
      "Epoch [46], Loss: 536.3632, Test Error: 34.3449\n",
      "Epoch [47], Loss: 553.8138, Test Error: 38.8026\n",
      "Epoch [48], Loss: 545.1465, Test Error: 43.4563\n",
      "Epoch [49], Loss: 542.3715, Test Error: 40.6322\n",
      "Epoch [50], Loss: 518.5776, Test Error: 40.7436\n",
      "Total Time: 75.48301100730896\n"
     ]
    }
   ],
   "source": [
    "t=time.time()\n",
    "losses=[]\n",
    "errors=[]\n",
    "\n",
    "##Option 1:\n",
    "# for epoch in range(epochs):\n",
    "#     model.train()\n",
    "#     for batch, (Jij, Omega) in enumerate(training_loader):\n",
    "#         optimizer.zero_grad()\n",
    "#         Omega_pred = model(Jij).view(batch_size,N,m)\n",
    "#         Jij_pred = bsslmu(ic, mu, Omega_pred, dev=device).normalize()\n",
    "#         loss = criterion(Jij, Jij_pred)\n",
    "#         #loss = criterion(Omega, model(Jij).float())\n",
    "#         loss.backward()\n",
    "#         optimizer.step()\n",
    "#     losses.append(loss.item())\n",
    "    \n",
    "#     model.eval()\n",
    "#     Omega_pred = model(test_set).view(test_set.size()[0],N,m)\n",
    "#     Jij_pred = bsslmu(ic, mu, Omega_pred,dev=device).normalize()\n",
    "#     Error = torch.mean(torch.abs(test_set-Jij_pred))*100\n",
    "#     errors.append(Error.item())\n",
    "#     print ('Epoch [{}], Loss: {:.4f}, Test Error: {}'.format(epoch+1, loss.item(), round(Error.item(),4)))\n",
    "# elapsed_time = time.time()-t\n",
    "# print('Total Time: {}'.format(elapsed_time))\n",
    "\n",
    "##Option 2\n",
    "# epoch=0\n",
    "Error = float('inf')\n",
    "while Error>0.25:\n",
    "    model.train()\n",
    "    for batch, (Jij, Omega) in enumerate(training_loader):\n",
    "        optimizer.zero_grad()\n",
    "        Omega_pred = model(Jij).view(batch_size,N,m)\n",
    "        Jij_pred = bsslmu(ic, mu, Omega_pred, dev=device).normalize()\n",
    "        loss = criterion(Jij, Jij_pred)\n",
    "        #loss = criterion(Omega, model(Jij).float())\n",
    "        loss.backward()\n",
    "        optimizer.step()\n",
    "    losses.append(loss.item())\n",
    "    \n",
    "    \n",
    "    model.eval()\n",
    "    Omega_pred = model(test_set).view(test_set.size()[0],N,m)\n",
    "    Jij_pred = bsslmu(ic, mu, Omega_pred,dev=device).normalize()\n",
    "    Error = torch.mean(torch.abs(test_set-Jij_pred))*100\n",
    "    errors.append(Error.item())\n",
    "    \n",
    "    print ('Epoch [{}], Loss: {:.4f}, Test Error: {}'.format(epoch+1, loss.item(), round(Error.item(),4)))\n",
    "    epoch+=1\n",
    "elapsed_time = time.time()-t\n",
    "print('Total Time: {}'.format(elapsed_time))"
   ]
  },
  {
   "cell_type": "code",
   "execution_count": 24,
   "metadata": {},
   "outputs": [
    {
     "name": "stdout",
     "output_type": "stream",
     "text": [
      "Test Set:\n",
      " tensor([[0.5774, 0.0000, 0.0000, 0.5774, 0.0000, 0.5774],\n",
      "        [0.5000, 0.0000, 0.5000, 0.5000, 0.0000, 0.5000],\n",
      "        [0.4472, 0.0000, 0.4472, 0.4472, 0.4472, 0.4472],\n",
      "        [0.4472, 0.4472, 0.4472, 0.4472, 0.0000, 0.4472]],\n",
      "       dtype=torch.float64)\n",
      "Jijs give by Omegas predicted for test set:\n",
      " tensor([[-0.3395, -0.1931,  0.0414,  0.8937,  0.1580, -0.1483],\n",
      "        [-0.0891, -0.1810,  0.3138,  0.1406, -0.7595, -0.5139],\n",
      "        [ 0.1013,  0.1168,  0.1838,  0.6960,  0.2418,  0.6320],\n",
      "        [ 0.3534, -0.0078, -0.2068,  0.1213, -0.8989, -0.0979]],\n",
      "       dtype=torch.float64, grad_fn=<ThMulBackward>)\n",
      "Mean test set error:\n",
      " 40.74359564774515\n"
     ]
    }
   ],
   "source": [
    "\"\"\"It is often helpful to visualize the network outputs, as well as the intented Jijs and those produced by the\n",
    "predictions. This code works for after network is trained.\"\"\"\n",
    "print('Test Set:\\n',test_set)\n",
    "print('Jijs give by Omegas predicted for test set:\\n', Jij_pred)\n",
    "print('Mean test set error:\\n', Error.item())\n"
   ]
  },
  {
   "cell_type": "markdown",
   "metadata": {},
   "source": [
    "## Instructions C'td\n",
    "Input the desired file path for which to save the trained network to into the variable named saved_data_file."
   ]
  },
  {
   "cell_type": "code",
   "execution_count": null,
   "metadata": {},
   "outputs": [],
   "source": [
    "saved_data_file = '/Users/marinadrygala/Desktop/Marina/mu_fixed/other_cost/N={}/m={}_Data_Size_{}_Error_{}_Time_{}_Epochs_{}.pt'.format(n,m,data_size,round(Error.item(),4),round(elapsed_time,2),epoch+1)\n",
    "\n",
    "d['epoch'] = epoch\n",
    "d['model_state_dict'] = model.state_dict()\n",
    "d['optimizer_state_dict'] = optimizer.state_dict()                                                                                                                                    \n",
    "d['losses'] = losses\n",
    "d['errors'] = errors\n",
    "d['input_size'] = input_size\n",
    "d['hidden_size'] = hidden_size\n",
    "d['output_size'] = output_size\n",
    "                                                                                                                                    \n",
    "torch.save(d, saved_data_file)"
   ]
  },
  {
   "cell_type": "code",
   "execution_count": null,
   "metadata": {},
   "outputs": [],
   "source": []
  },
  {
   "cell_type": "code",
   "execution_count": null,
   "metadata": {},
   "outputs": [],
   "source": []
  },
  {
   "cell_type": "code",
   "execution_count": null,
   "metadata": {},
   "outputs": [],
   "source": []
  }
 ],
 "metadata": {
  "kernelspec": {
   "display_name": "Python 3",
   "language": "python",
   "name": "python3"
  },
  "language_info": {
   "codemirror_mode": {
    "name": "ipython",
    "version": 3
   },
   "file_extension": ".py",
   "mimetype": "text/x-python",
   "name": "python",
   "nbconvert_exporter": "python",
   "pygments_lexer": "ipython3",
   "version": "3.7.0"
  }
 },
 "nbformat": 4,
 "nbformat_minor": 2
}
