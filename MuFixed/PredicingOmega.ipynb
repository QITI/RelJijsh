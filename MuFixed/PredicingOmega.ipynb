{
 "cells": [
  {
   "cell_type": "markdown",
   "metadata": {},
   "source": [
    "# Predicting Omega\n",
    "Given a trained network use this document to predict the values of Omega to produce a desired $J_{i,j}$.\n"
   ]
  },
  {
   "cell_type": "code",
   "execution_count": 1,
   "metadata": {},
   "outputs": [],
   "source": [
    "import sys\n",
    "sys.path.insert(0, '/Users/marinadrygala/Desktop/Marina/')\n",
    "import classesmu\n",
    "from classesmu import BatchSimulatedSpinLattice as bsslmu\n",
    "import torch\n",
    "import torch.nn as nn\n",
    "from torch.utils.data import Dataset, DataLoader\n",
    "from torch.autograd import Variable\n",
    "import torch.nn.functional as F\n",
    "from torch.utils.data import Dataset, DataLoader\n",
    "import numpy as np\n",
    "import pickle\n",
    "import time\n",
    "import ic_functions\n",
    "from ic_functions import chain, circle\n",
    "import neural_nets\n",
    "from neural_nets import Net\n",
    "import matplotlib.pyplot as plt\n",
    "\n",
    "use_cuda = torch.cuda.is_available()\n",
    "device = torch.device(\"cuda\" if use_cuda else \"cpu\")"
   ]
  },
  {
   "cell_type": "markdown",
   "metadata": {},
   "source": [
    "## Instructions\n",
    "Enter the path of the saved model to the path variable."
   ]
  },
  {
   "cell_type": "code",
   "execution_count": 3,
   "metadata": {},
   "outputs": [
    {
     "data": {
      "text/plain": [
       "Net(\n",
       "  (fc1): Linear(in_features=45, out_features=1024, bias=True)\n",
       "  (fc2): Linear(in_features=1024, out_features=1024, bias=True)\n",
       "  (fc3): Linear(in_features=1024, out_features=90, bias=True)\n",
       ")"
      ]
     },
     "execution_count": 3,
     "metadata": {},
     "output_type": "execute_result"
    }
   ],
   "source": [
    "path = '/Users/marinadrygala/Desktop/Marina/mu_fixed/Less_Mus/N=10/m=9_Data_Size_25000_Error_0.2182_Time_1258.69_Epochs_87.pt'\n",
    "d = torch.load(path)\n",
    "\"\"\"The required items from the file are stored are variables.\"\"\"\n",
    "ic = d['ic']\n",
    "mu=d['mu']\n",
    "m=d['m']\n",
    "test_set=d['test']\n",
    "N=ic.n\n",
    "input_size = int(N*(N-1)/2)\n",
    "output_size = N*m\n",
    "hidden_size = 128*(N-2)\n",
    "#input_size = d['input_size']\n",
    "#hidden_size = d['hidden_size']\n",
    "#output_size = d['output_size']\n",
    "\n",
    "\"\"\"The trained model is loaded\"\"\"\n",
    "model = Net(input_size, hidden_size, output_size)\n",
    "model.load_state_dict(d['model_state_dict'])\n",
    "optimizer = torch.optim.Adam(model.parameters())\n",
    "optimizer.load_state_dict(d['optimizer_state_dict'])\n",
    "for state in optimizer.state.values():\n",
    "    for k, v in state.items():\n",
    "        if isinstance(v, torch.Tensor):\n",
    "            state[k] = v.double()\n",
    "\n",
    "model.double()\n",
    "\n"
   ]
  },
  {
   "cell_type": "markdown",
   "metadata": {},
   "source": [
    "## Instructions C'td\n",
    "Enter the desired $J_{i,j}$ value or set of values in the variable Jij. Note make sure the values are normalized by dividing by the L2-norm."
   ]
  },
  {
   "cell_type": "code",
   "execution_count": 4,
   "metadata": {},
   "outputs": [
    {
     "name": "stdout",
     "output_type": "stream",
     "text": [
      "Predicted Omega values\n",
      " tensor([[[-31.2586,  10.2382,   2.6232,  49.8179,   9.0002,  20.9272,  -0.8566,\n",
      "          -13.9947,  74.3302],\n",
      "         [-21.3610,  29.2632,   8.8525,  -9.1520,  -1.6237,  20.9353, -24.5989,\n",
      "          -13.0161,   6.5193],\n",
      "         [ -1.8438,  -5.2382, -51.5458,  -6.3717,   7.1585,   4.7198,   1.6974,\n",
      "           -0.0849,   4.4875],\n",
      "         [ -5.5407,   0.4438,   5.7286,  -1.6522,   0.0450,   1.5321,  -0.4545,\n",
      "            0.9107,  -0.0204],\n",
      "         [ 49.5706,  -8.8036,   1.3447,  -2.7415,   0.2109,   4.8843,  -1.5914,\n",
      "            4.0776,  -5.1576],\n",
      "         [ -1.8134,  10.8441,  -5.7389, -41.3230, -14.0601,  11.6465,  -2.3774,\n",
      "           11.3635, -39.2467],\n",
      "         [  0.1568,  -3.9039,   1.8633,  -5.8363, -49.6986,   7.4986,   6.3340,\n",
      "           -4.2484,  -8.8003],\n",
      "         [  9.6131, -42.6969,  -1.5516,   0.4551, -32.9495, -10.7734,   2.6459,\n",
      "           -0.5390, -13.1993],\n",
      "         [ -9.4184,   4.8837,   1.3016,  20.6605,  -3.3072,  -9.4394,  -9.2700,\n",
      "           16.3806, -59.2608],\n",
      "         [  9.8810,  -8.7032, -10.6360, -10.6392, -13.3399, -15.3095,  24.6132,\n",
      "            7.2361,  -8.4935]]], dtype=torch.float64, grad_fn=<ViewBackward>)\n",
      "Jijs give by Omegas predicted\n",
      " tensor([[ 0.3320, -0.0025, -0.0063, -0.0000, -0.0004, -0.0060,  0.0003, -0.0048,\n",
      "          0.0018,  0.3339, -0.0032,  0.0006, -0.0037,  0.0025,  0.0017, -0.0013,\n",
      "         -0.0018,  0.3297,  0.0022,  0.0006, -0.0035, -0.0010,  0.0000,  0.0008,\n",
      "          0.3258,  0.0019, -0.0005, -0.0017, -0.0027,  0.0021,  0.3369,  0.0010,\n",
      "         -0.0018,  0.0009,  0.0015,  0.3326,  0.0001, -0.0027,  0.0023,  0.3366,\n",
      "         -0.0012, -0.0024,  0.3366,  0.0025,  0.3355]],\n",
      "       dtype=torch.float64, grad_fn=<ThMulBackward>)\n",
      "Mean error\n",
      " 0.21373111629105312\n"
     ]
    }
   ],
   "source": [
    "\"\"\"Network Predictions\"\"\"\n",
    "#Jij = test_set[3]\n",
    "Jij=torch.tensor(chain(N)/np.linalg.norm(chain(N)))\n",
    "if len(Jij.size())==1:\n",
    "    Omega_pred = model(Jij).view(1,N,m)\n",
    "else:\n",
    "    Omega_pred = model(Jij).view(Jij.size()[0],N,m)\n",
    "Jij_pred = bsslmu(ic, mu, Omega_pred, dev=device).normalize()\n",
    "Error = torch.mean(torch.abs(Jij-Jij_pred))*100\n",
    "print('Predicted Omega values\\n', Omega_pred)\n",
    "print('Jijs give by Omegas predicted\\n', Jij_pred)\n",
    "print('Mean error\\n', Error.item())"
   ]
  },
  {
   "cell_type": "code",
   "execution_count": 5,
   "metadata": {},
   "outputs": [
    {
     "name": "stdout",
     "output_type": "stream",
     "text": [
      "tensor([[140.4574, 125.0189,  91.1861, 148.6494, 131.3935, 107.6662,  74.4392,\n",
      "          71.8517, 219.5159]],\n",
      "       dtype=torch.float64, grad_fn=<SqueezeBackward3>)\n",
      "tensor([1110.1783], dtype=torch.float64, grad_fn=<SqueezeBackward3>)\n",
      "tensor([0.1265, 0.1126, 0.0821, 0.1339, 0.1184, 0.0970, 0.0671, 0.0647, 0.1977],\n",
      "       dtype=torch.float64, grad_fn=<AsStridedBackward>)\n",
      "tensor(0.3529, dtype=torch.float64, grad_fn=<SqrtBackward>)\n",
      "tensor([0.3585, 0.3191, 0.2327, 0.3794, 0.3353, 0.2748, 0.1900, 0.1834, 0.5603],\n",
      "       dtype=torch.float64, grad_fn=<DivBackward1>)\n"
     ]
    }
   ],
   "source": [
    "\"\"\"A comparision of the absolute sizes of the Rabi frequencies corresponding to each detuning. Used to predict which\n",
    "mu value may be possible to eliminate and still retain some accuracy.\"\"\"\n",
    "numerator=torch.einsum('pnm->pm',[abs(Omega_pred)])\n",
    "print(numerator)\n",
    "denominator=torch.einsum('pnm->p',[abs(Omega_pred)])\n",
    "print(denominator)\n",
    "epsilon=torch.einsum('pm,p->m',[numerator,1/denominator])\n",
    "print(epsilon)\n",
    "norm_epsilon=torch.sqrt((epsilon ** 2).sum(0))\n",
    "print(norm_epsilon)\n",
    "normalized_epsilon=epsilon/norm_epsilon\n",
    "print(normalized_epsilon)"
   ]
  },
  {
   "cell_type": "code",
   "execution_count": 6,
   "metadata": {},
   "outputs": [
    {
     "data": {
      "text/plain": [
       "Text(0.5,1,'Scaled value')"
      ]
     },
     "execution_count": 6,
     "metadata": {},
     "output_type": "execute_result"
    },
    {
     "data": {
      "image/png": "[encoded data removed]",
      "text/plain": [
       "<Figure size 432x288 with 1 Axes>"
      ]
     },
     "metadata": {
      "needs_background": "light"
     },
     "output_type": "display_data"
    }
   ],
   "source": [
    "\"\"\"Visualization of the above calculations\"\"\"\n",
    "plt.plot(range(1,len(epsilon)+1),list(normalized_epsilon),\n",
    "            marker='o',linestyle='None')\n",
    "\n",
    "plt.ylabel('Mu Usage')\n",
    "plt.xlabel('m')\n",
    "plt.title('Scaled value')"
   ]
  },
  {
   "cell_type": "code",
   "execution_count": 7,
   "metadata": {},
   "outputs": [
    {
     "name": "stdout",
     "output_type": "stream",
     "text": [
      "[6]\n",
      "tensor([2.0442, 2.7688, 3.2992, 3.7195, 4.0630, 4.3466, 4.7665, 4.9091, 5.0500])\n"
     ]
    }
   ],
   "source": [
    "\"\"\"Determine which indices of the original mu were removed, incase the user wishes to remove more, and produce a\n",
    "new data set.\"\"\"\n",
    "print(d['removed_mus'])\n",
    "print(d['mu'])"
   ]
  },
  {
   "cell_type": "code",
   "execution_count": null,
   "metadata": {},
   "outputs": [],
   "source": []
  }
 ],
 "metadata": {
  "kernelspec": {
   "display_name": "Python 3",
   "language": "python",
   "name": "python3"
  },
  "language_info": {
   "codemirror_mode": {
    "name": "ipython",
    "version": 3
   },
   "file_extension": ".py",
   "mimetype": "text/x-python",
   "name": "python",
   "nbconvert_exporter": "python",
   "pygments_lexer": "ipython3",
   "version": "3.7.0"
  }
 },
 "nbformat": 4,
 "nbformat_minor": 2
}
