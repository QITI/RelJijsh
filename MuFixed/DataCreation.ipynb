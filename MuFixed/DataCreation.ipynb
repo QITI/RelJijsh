{
 "cells": [
  {
   "cell_type": "markdown",
   "metadata": {},
   "source": [
    "# Creating Data\n",
    "Use this file to create and alter datasets."
   ]
  },
  {
   "cell_type": "markdown",
   "metadata": {},
   "source": [
    "## Instructions\n",
    "\n",
    "Enter the following parameters as desired:\n",
    "\n",
    "N - the number of ions in the lattice\n",
    "\n",
    "data_size - the size of data set that should be generated prior to filtration, depending on N if you select data_size to be too large the program will crash, but if you set it to be too small you wont get enough data after filtration. At the end of this noteboook there is code to combine compatible datasets as a solution to the second problem.\n",
    "\n",
    "trapping_strengths - specify the desired trapping strengths in the ion chain"
   ]
  },
  {
   "cell_type": "code",
   "execution_count": 1,
   "metadata": {},
   "outputs": [],
   "source": [
    "import sys\n",
    "sys.path.insert(0, '/Users/marinadrygala/Desktop/Marina/')\n",
    "import classesmu\n",
    "from classesmu import BatchSimulatedSpinLattice as bsslmu\n",
    "import pickle\n",
    "import numpy as np\n",
    "import torch\n",
    "import math\n",
    "import ic_functions\n",
    "from ic_functions import chain, circle\n",
    "import time\n",
    "\n",
    "\n",
    "\"\"\"Enter the desired values for the variables below as mentioned in the instructions \"\"\"\n",
    "data_size=200000\n",
    "N=4\n",
    "trapping_strengths = [5,1]\n",
    "\n",
    "\"\"\"Generates the desired instance of the ionchain object.\"\"\"\n",
    "ic = classesmu.IonChain(N,trapping_strengths)\n",
    "\n",
    "\n",
    "use_cuda = torch.cuda.is_available()\n",
    "device = torch.device(\"cuda\" if use_cuda else \"cpu\")\n",
    "\n"
   ]
  },
  {
   "cell_type": "markdown",
   "metadata": {},
   "source": [
    "## Instructions C'td\n",
    "Alter the code for $\\mu$ as desired."
   ]
  },
  {
   "cell_type": "code",
   "execution_count": 2,
   "metadata": {},
   "outputs": [],
   "source": [
    "\"\"\"The transverse mode frequencies\"\"\"\n",
    "omega_m = torch.tensor(ic.w_x)\n",
    "\n",
    "\"\"\"The number of entries in the Jij matrix that are above the main diagonal\"\"\"\n",
    "size_Jij = N*(N-1)/2\n",
    "\n",
    "\"\"\"Calculating a predictably useful value for mu\"\"\"\n",
    "mu = torch.zeros(N)\n",
    "for i in range(N-1):\n",
    "    mu[i] = omega_m[i] + (omega_m[i+1]-omega_m[i])*0.1\n",
    "mu[-1] = (omega_m[-1]*1.01)\n",
    "\n"
   ]
  },
  {
   "cell_type": "code",
   "execution_count": null,
   "metadata": {},
   "outputs": [],
   "source": [
    "\"\"\"For removing desired values of mu\"\"\"\n",
    "indices=torch.ones(n,dtype=torch.uint8)\n",
    "removed_mus=[]\n",
    "for i in removed_mus:\n",
    "    indices[i]=0\n",
    "mu = mu[indices]"
   ]
  },
  {
   "cell_type": "markdown",
   "metadata": {},
   "source": [
    "## Instruction C'td\n",
    "We use the functions in the following cell to produce a single number that summarizes each $J_{i,j}$. The gaussian and linear functions could both be used, however we have used the linear function. The theta function gives an idication of how the weight of the values in the $J_{i,j}$ matrix are distributed with relation to how close ions $i$ and $j$ are. If we pick a minimum threshold value for theta(Jij) then we can filter out data that doesn't closely represent the physical system."
   ]
  },
  {
   "cell_type": "code",
   "execution_count": 3,
   "metadata": {},
   "outputs": [],
   "source": [
    "\"\"\"m if the number of detunings is and important value for training and prediction\"\"\"\n",
    "m=len(mu)\n",
    "\n",
    "\"\"\"The row and column indices for the entries of an nxn matrix that fall above the diagonal\"\"\"\n",
    "row_indices, col_indices = np.triu_indices(N,1)\n",
    "\n",
    "\"\"\"A parameter that can be set as desired if using the gaussian function to filter the data.\"\"\"\n",
    "sigma=2.5\n",
    "\n",
    "\"\"\"The gaussian and linear functions serve a similar purpose and as stated in the instructions either can be used.\n",
    "They output a vector with entries corresponding to a weighting of the entries in Jij matricies.\n",
    "For an i,j pair, the distance between i and j and the corresponding entry outputted by the functions have an inverse\n",
    "relationship. This property is then utilized by theta. A higher theta(Jij) where Jij is normalized as described,\n",
    "indicates that more of the interactions are between ions that are close together, and these Jijs more closely\n",
    "represent the physical properties we are interested in.\"\"\"\n",
    "def gaussian():\n",
    "    fij = np.exp(-(row_indices-col_indices)**2/(2*sigma**2))\n",
    "    return fij\n",
    "\n",
    "def linear():\n",
    "    fij = np.abs(row_indices-col_indices)\n",
    "    return 1/fij\n",
    "\n",
    "filter_func = linear()\n",
    "\n",
    "def theta(Jij):\n",
    "    theta = 1/size_Jij*np.sum(np.abs(Jij)*filter_func)\n",
    "    return theta\n"
   ]
  },
  {
   "cell_type": "markdown",
   "metadata": {},
   "source": [
    "## Instruction C'td\n",
    "We use the code in the following cell to produce a test set for our data containing Jijs that we are interested in.\n",
    "In the cell below that we apply theta on the Jijs contained in our test set to find out an appropriate minimum threshold value for which we call epsilon."
   ]
  },
  {
   "cell_type": "code",
   "execution_count": null,
   "metadata": {},
   "outputs": [],
   "source": [
    "\"\"\"This code is to make a test set that includes a chain lattice, a circular lattice and some circular lattices modified\n",
    "to contain one additional interaction(if n>3). In each of these cases all of the interactions are of the same strength. \n",
    "Alot of the possible interactions are just rotations or reflections of one another and so produce the same theta value.\n",
    "Only some of these are included and thus a formula for a reasonable test set size is as follows.\"\"\"\n",
    "\n",
    "test_set_size=math.floor(N/2)+1\n",
    "\n",
    "\"\"\"chain is a function located in ic_functions and produces a vectorized form of a chain lattice.\"\"\"\n",
    "chain_lattice=chain(N)\n",
    "\n",
    "\"\"\"stacking the necessary copies of the chain lattice to be modified as needed, to produce the desired test set.\"\"\"\n",
    "test_set = np.tile(chain_lattice,(test_set_size,1))\n",
    "\"\"\"modifying the entries of the matrix to produce desired test set\"\"\"\n",
    "test_set[:,N-2]=np.ones((test_set_size))\n",
    "test_set[0,N-2]=0\n",
    "id_size=test_set_size-2\n",
    "test_set[2:2+id_size,1:1+id_size]=np.identity(id_size)\n",
    "\n",
    "\"\"\"converting to a torch tensor\"\"\"\n",
    "test_set=torch.from_numpy(test_set)\n",
    "\n",
    "\"\"\"Normalizing the test set\"\"\"\n",
    "norms=torch.sqrt((test_set**2).sum(1))\n",
    "test_set=torch.einsum('ij,i->ij',[test_set,1/norms])\n",
    "\n"
   ]
  },
  {
   "cell_type": "code",
   "execution_count": null,
   "metadata": {},
   "outputs": [],
   "source": [
    "\"\"\"Applying theta function along each row of the test set. The threshold value epsilon is set to be the minimum value\n",
    "of theta produced by any Jij in the test set, rounded down to 2 decimal places. Epsilon will be used later for filtration\"\"\"\n",
    "np_test_set = test_set.numpy()\n",
    "thetas=np.apply_along_axis(theta,1,np_test_set)\n",
    "epsilon = min(thetas) // 0.01 / 100\n",
    "print(thetas)\n",
    "print(epsilon)"
   ]
  },
  {
   "cell_type": "markdown",
   "metadata": {},
   "source": [
    "## Instruction C'td\n",
    "The following cells are used to generate and store data.\n",
    "\n",
    "If a larger amount of data is needed than can be generated with the available memory the last cell is used to combine multiple data files into a single one."
   ]
  },
  {
   "cell_type": "code",
   "execution_count": null,
   "metadata": {},
   "outputs": [],
   "source": [
    "\"\"\"Omega should take on a tensor of dimension data_sizeXnXm. We select the values Omega from a random uniform\n",
    "distribution from the interval [-1,1]\"\"\"\n",
    "#torch.manual_seed(2)\n",
    "Omega = 2*torch.rand(data_size,N,m)-1\n",
    "\"\"\"bsslmu is a function imported from the classesmu file and when .normalize() is called a tensor of dimension\n",
    "data_sizeXsize_Jij where ith row of the output corresponds to the vectorized form of the Jij produced by the ith\n",
    "tensor of Omega.\"\"\"\n",
    "Jijs = bsslmu(ic, mu, Omega, dev=device).normalize()\n",
    "\"\"\"We reshape Omega to be of dimension data_sizeX(N*m) for training purposes\"\"\"\n",
    "Omegas=Omega.reshape(data_size,-1)\n",
    "\n"
   ]
  },
  {
   "cell_type": "code",
   "execution_count": null,
   "metadata": {},
   "outputs": [],
   "source": [
    "\"\"\"Filtering Data so that any Jij,Omega pair in our data set that does not satisfy theta(Jij)>epsilon is removed\"\"\"\n",
    "thetas=torch.from_numpy(np.apply_along_axis(theta,1,Jijs))\n",
    "indices=thetas>epsilon\n",
    "Jijs_filt=Jijs[indices]\n",
    "Omegas_filt=Omegas[indices]"
   ]
  },
  {
   "cell_type": "code",
   "execution_count": null,
   "metadata": {},
   "outputs": [],
   "source": [
    "\"\"\"This is inefficient and may not produce as much data as we would like. The length of the filtered data set helps us\n",
    "deterimine if we should run the program again.\"\"\"\n",
    "len(Jijs_filt)"
   ]
  },
  {
   "cell_type": "code",
   "execution_count": null,
   "metadata": {},
   "outputs": [],
   "source": [
    "\"\"\"Saving the data into a dictionary. When we train our network the inputs will be the Jijs, the outputs the Omegas. At\n",
    "each training epoch will be interested in how well our network can predict an appropriate Omega for Jijs in our test\n",
    "set. To generate network sizes, and network predictions it will be necessary to save the ionchain and the values of mu\n",
    "as well as m, and the list of mus removed from our original mu.\"\"\"\n",
    "d={'inputs': Jijs_filt,\n",
    "  'outputs': Omegas_filt,\n",
    "   'test': test_set,\n",
    "  'ic': ic,\n",
    "  'm':m,\n",
    "  'mu':mu,\n",
    "  'removed_mus': removed_mus}\n",
    "\n",
    "\"\"\"the program will save the data into the specified filname\"\"\"\n",
    "filename = 'Data_N={}_m={}_Epsilon={}_Size={}.pickle'.format(N,m,epsilon,len(Jijs_filt))\n",
    "f = open(filename, 'wb')\n",
    "pickle.dump(d, f)\n",
    "f.close()"
   ]
  },
  {
   "cell_type": "code",
   "execution_count": null,
   "metadata": {},
   "outputs": [],
   "source": [
    "\"\"\"Code to combine data sets created using the same ionchain and mu.\"\"\"\n",
    "# d1 = pickle.load(open('Data_N=10_m=9_Epsilon=0.06_Size=1715.pickle', \"rb\"))\n",
    "# d2 = pickle.load(open('Data_N=10_m=9_Epsilon=0.06_Size=96413.pickle', \"rb\"))\n",
    "# d3 = pickle.load(open('Data_N=10_m=9_Epsilon=0.06_Size=1687.pickle', \"rb\"))\n",
    "\n",
    "\n",
    "\n",
    "# d={'inputs': torch.cat((d1['inputs'],d2['inputs'],d3['inputs'])),\n",
    "#   'outputs': torch.cat((d1['outputs'],d2['outputs'],d3['outputs'])),\n",
    "#    'test': d1['test'],\n",
    "#   'ic': d1['ic'],\n",
    "#   'm':d1['m'],\n",
    "#   'mu':d1['mu'], \n",
    "#   'removed_mus':d1['removed_mus']}\n",
    "# filename = 'Data_N={}_m={}_Epsilon={}_Size={}.pickle'.format(n,m,epsilon,\n",
    "#                                                          len(d1['inputs'])+len(d2['inputs'])+len(d3['inputs']))\n",
    "# f = open(filename, 'wb')\n",
    "# pickle.dump(d, f)\n",
    "# f.close()\n",
    "\n",
    "# len(d['inputs'])"
   ]
  },
  {
   "cell_type": "code",
   "execution_count": 8,
   "metadata": {},
   "outputs": [],
   "source": [
    "d=pickle.load(open('/Users/marinadrygala/Desktop/Marina/mu_fixed/Data/Data_N=4_Epsillon=0.27_Size=180984.pickle',\"rb\"))\n",
    "d['m']=m\n",
    "d['mu']=mu\n",
    "#d['removed_mus']=removed_mus\n",
    "\n",
    "f = open('/Users/marinadrygala/Desktop/Marina/mu_fixed/Data/Data_N=4_Epsillon=0.27_Size=180984_2.pickle', 'wb')\n",
    "pickle.dump(d, f)\n",
    "f.close()"
   ]
  },
  {
   "cell_type": "code",
   "execution_count": null,
   "metadata": {},
   "outputs": [],
   "source": []
  },
  {
   "cell_type": "code",
   "execution_count": null,
   "metadata": {},
   "outputs": [],
   "source": []
  }
 ],
 "metadata": {
  "kernelspec": {
   "display_name": "Python 3",
   "language": "python",
   "name": "python3"
  },
  "language_info": {
   "codemirror_mode": {
    "name": "ipython",
    "version": 3
   },
   "file_extension": ".py",
   "mimetype": "text/x-python",
   "name": "python",
   "nbconvert_exporter": "python",
   "pygments_lexer": "ipython3",
   "version": "3.7.0"
  }
 },
 "nbformat": 4,
 "nbformat_minor": 2
}
