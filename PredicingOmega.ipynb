{
 "cells": [
  {
   "cell_type": "markdown",
   "metadata": {},
   "source": [
    "# Predicting Omega\n",
    "Given a trained network use this document to predict the values of Omega to produce a desired $J_{i,j}$.\n"
   ]
  },
  {
   "cell_type": "code",
   "execution_count": 34,
   "metadata": {},
   "outputs": [],
   "source": [
    "import sys\n",
    "sys.path.insert(0, '/Users/marinadrygala/Desktop/Marina/JijCalculator')\n",
    "import classesmu\n",
    "from classesmu import BatchSimulatedSpinLattice as bsslmu\n",
    "from classesmu import SimulatedSpinLattice as sslmu\n",
    "import torch\n",
    "import torch.nn as nn\n",
    "from torch.utils.data import Dataset, DataLoader\n",
    "from torch.autograd import Variable\n",
    "import torch.nn.functional as F\n",
    "from torch.utils.data import Dataset, DataLoader\n",
    "import numpy as np\n",
    "import pickle\n",
    "import time\n",
    "import ic_functions\n",
    "from ic_functions import chain, circle, torch_normalized, np_normalized, noise_adder\n",
    "import neural_nets\n",
    "from neural_nets import Net\n",
    "import matplotlib.pyplot as plt\n",
    "import os\n",
    "from mpl_toolkits.mplot3d import Axes3D\n",
    "\n",
    "use_cuda = torch.cuda.is_available()\n",
    "device = torch.device(\"cuda\" if use_cuda else \"cpu\")"
   ]
  },
  {
   "cell_type": "markdown",
   "metadata": {},
   "source": [
    "## Instructions\n",
    "Enter the path of the saved model to the path variable."
   ]
  },
  {
   "cell_type": "code",
   "execution_count": 35,
   "metadata": {},
   "outputs": [
    {
     "data": {
      "text/plain": [
       "Net(\n",
       "  (input_layer): Linear(in_features=45, out_features=1024, bias=True)\n",
       "  (hidden_layers): ModuleList(\n",
       "    (0): Linear(in_features=1024, out_features=1024, bias=True)\n",
       "  )\n",
       "  (output_layer): Linear(in_features=1024, out_features=100, bias=True)\n",
       ")"
      ]
     },
     "execution_count": 35,
     "metadata": {},
     "output_type": "execute_result"
    }
   ],
   "source": [
    "path = '/Users/marinadrygala/Desktop/Marina/mu_fixed/non_norm/N=10/m=10_Data_Size_25000_Error_0.2235_Time_1416.38_Epochs_79.pt'\n",
    "d = torch.load(path)\n",
    "\"\"\"The required items from the file are stored as variables.\"\"\"\n",
    "ic = d['ic']\n",
    "N=ic.n\n",
    "\n",
    "mu=d['mu']\n",
    "m=d['m']\n",
    "\n",
    "input_size = d['input_size']\n",
    "hidden_size = d['hidden_size']\n",
    "output_size = d['output_size']\n",
    "\n",
    "\"\"\"The trained model is loaded\"\"\"\n",
    "model = Net(input_size, hidden_size, output_size,1)\n",
    "model.load_state_dict(d['model_state_dict'])\n",
    "optimizer = torch.optim.Adam(model.parameters())\n",
    "optimizer.load_state_dict(d['optimizer_state_dict'])\n",
    "for state in optimizer.state.values():\n",
    "    for k, v in state.items():\n",
    "        if isinstance(v, torch.Tensor):\n",
    "            state[k] = v.double()\n",
    "\n",
    "model.double()\n",
    "\n"
   ]
  },
  {
   "cell_type": "markdown",
   "metadata": {},
   "source": [
    "## Instructions C'td\n",
    "Enter the desired $J_{i,j}$ value or set of values in the variable Jij. Note make sure the values are normalized by dividing by the L2-norm."
   ]
  },
  {
   "cell_type": "code",
   "execution_count": 36,
   "metadata": {},
   "outputs": [
    {
     "name": "stdout",
     "output_type": "stream",
     "text": [
      "Predicted Omega values\n",
      " tensor([[[ -5.3407,   0.4427,  -2.4059,  30.3201,   3.4563,   2.7111, -20.3155,\n",
      "          -17.6967,  -4.8917,   5.5161],\n",
      "         [ -7.0244,   4.2771, -10.9934, -14.2587,  -3.5560, -23.2911,   9.4470,\n",
      "          -10.7996,  14.3122,   5.8711],\n",
      "         [  0.4540,  22.6333,  16.7727,  10.0775, -21.3565,  -4.3559, -10.9327,\n",
      "           15.0841,  -0.9172,   5.9159],\n",
      "         [ -2.8649,   5.1988,  -2.6181,   4.0677, -28.0748,   3.9310,  -6.2807,\n",
      "            3.7860,  -0.8733,  34.6135],\n",
      "         [  3.3793, -14.3002,  -8.2917, -19.4439,  18.7780, -11.7766,  15.5624,\n",
      "           -6.0692, -21.2794,  29.4171],\n",
      "         [-41.8829,   2.0374,   1.0962,   0.7604,  -4.6083,  -1.2330,  -2.7412,\n",
      "           -0.6350,  -0.0597,  -4.7024],\n",
      "         [  5.9461,  12.3341,  -3.9378,  18.3012,  -4.5030,  13.8151,  18.3998,\n",
      "           14.5902,  10.9302, -15.5805],\n",
      "         [ -1.2918,  12.2404,  22.2475,  20.1479,  -3.8684,   2.7848,   9.0594,\n",
      "           15.5440,   1.6041,   1.4441],\n",
      "         [-11.4793,  15.2069,   1.3954, -18.7292,  -8.4166,  11.3724, -12.4283,\n",
      "            7.1233,  -6.6796, -40.9543],\n",
      "         [  3.4496,  20.6211,  28.7618,  40.4714,  17.6906,  22.3945,   6.0467,\n",
      "            9.2884,  12.7273, -26.2941]]],\n",
      "       dtype=torch.float64, grad_fn=<ViewBackward>)\n",
      "Desired Jijs\n",
      " tensor([0.3333, 0.0000, 0.0000, 0.0000, 0.0000, 0.0000, 0.0000, 0.0000, 0.0000,\n",
      "        0.3333, 0.0000, 0.0000, 0.0000, 0.0000, 0.0000, 0.0000, 0.0000, 0.3333,\n",
      "        0.0000, 0.0000, 0.0000, 0.0000, 0.0000, 0.0000, 0.3333, 0.0000, 0.0000,\n",
      "        0.0000, 0.0000, 0.0000, 0.3333, 0.0000, 0.0000, 0.0000, 0.0000, 0.3333,\n",
      "        0.0000, 0.0000, 0.0000, 0.3333, 0.0000, 0.0000, 0.3333, 0.0000, 0.3333],\n",
      "       dtype=torch.float64)\n",
      "Jijs give by Omegas predicted\n",
      " tensor([[ 0.3369,  0.0014,  0.0003,  0.0012,  0.0073, -0.0026,  0.0011, -0.0010,\n",
      "         -0.0013,  0.3356,  0.0045, -0.0028,  0.0041,  0.0026,  0.0003, -0.0032,\n",
      "          0.0007,  0.3266, -0.0035, -0.0012, -0.0015, -0.0024, -0.0028, -0.0006,\n",
      "          0.3365, -0.0005, -0.0004, -0.0032,  0.0029, -0.0008,  0.3367,  0.0094,\n",
      "         -0.0069,  0.0010, -0.0002,  0.3286,  0.0002,  0.0025,  0.0027,  0.3302,\n",
      "         -0.0001, -0.0016,  0.3341, -0.0009,  0.3342]],\n",
      "       dtype=torch.float64, grad_fn=<ThMulBackward>)\n",
      "Mean error\n",
      " 0.23975585129393492\n"
     ]
    }
   ],
   "source": [
    "\"\"\"Network Predictions\"\"\"\n",
    "#Jij = test_set[3]\n",
    "Jij = chain(N)\n",
    "Jij = torch.from_numpy(np_normalized(Jij))\n",
    "if len(Jij.size())==1:\n",
    "    Omega_pred = model(Jij).view(1,N,m)\n",
    "else:\n",
    "    Omega_pred = model(Jij).view(Jij.size()[0],N,m)\n",
    "lattice = bsslmu(ic, mu, Omega_pred, dev=device)\n",
    "Jij_pred = lattice.normalize()\n",
    "Error = torch.mean(torch.abs(Jij-Jij_pred))*100\n",
    "print('Predicted Omega values\\n', Omega_pred)\n",
    "print('Desired Jijs\\n',Jij)\n",
    "print('Jijs give by Omegas predicted\\n', Jij_pred)\n",
    "print('Mean error\\n', Error.item())"
   ]
  },
  {
   "cell_type": "code",
   "execution_count": 37,
   "metadata": {},
   "outputs": [
    {
     "data": {
      "image/png": "[encoded data removed]",
      "text/plain": [
       "<Figure size 810x360 with 1 Axes>"
      ]
     },
     "metadata": {
      "needs_background": "light"
     },
     "output_type": "display_data"
    }
   ],
   "source": [
    "\"\"\"A bar graph to help one visalize the scales of the desired and original Jijs for a single Jij\"\"\"\n",
    "if len(Jij.size())==1:\n",
    "    size_Jij = int(N*(N-1)/2)\n",
    "    x = range(1,size_Jij+1)\n",
    "\n",
    "    plt.figure(figsize=(size_Jij/4,5))\n",
    "\n",
    "    barWidth = 0.25\n",
    " \n",
    "    bars1 = list(Jij.numpy())\n",
    "    bars2 = list(Jij_pred.view(size_Jij).detach().numpy())\n",
    "\n",
    " \n",
    "    \n",
    "    r1 = [i - barWidth/2 for i in x]\n",
    "    r2 = [i + barWidth/2 for i in x]\n",
    "\n",
    "\n",
    " \n",
    "   \n",
    "    plt.bar(r1, bars1, width=barWidth, edgecolor='white', label='Original Jij')\n",
    "    plt.bar(r2, bars2, width=barWidth, edgecolor='white', label='Predicted Jij')\n",
    "\n",
    " \n",
    "    \n",
    "    plt.xlabel('Entry of Vectorized Jij', fontweight='bold')\n",
    "    plt.ylabel('Normalized Jij', fontweight='bold')\n",
    "    plt.title('N=10 Chain Lattice', fontweight='bold')\n",
    " \n",
    "    \n",
    "    plt.legend()\n",
    "    plt.show()\n"
   ]
  },
  {
   "cell_type": "code",
   "execution_count": 38,
   "metadata": {},
   "outputs": [],
   "source": [
    "\"\"\"A comparision of the absolute sizes of the Rabi frequencies corresponding to each detuning. Used to predict which\n",
    "mu value may be possible to eliminate and still retain some accuracy.\"\"\"\n",
    "numerator=torch.einsum('pnm->pm',[abs(Omega_pred)])\n",
    "denominator=torch.einsum('pnm->p',[abs(Omega_pred)])\n",
    "epsilon=torch.einsum('pm,p->m',[numerator,1/denominator])\n",
    "norm_epsilon=torch.sqrt((epsilon ** 2).sum(0))\n",
    "normalized_epsilon=epsilon/norm_epsilon"
   ]
  },
  {
   "cell_type": "code",
   "execution_count": 39,
   "metadata": {},
   "outputs": [
    {
     "data": {
      "text/plain": [
       "Text(0.5,1,'Scaled value')"
      ]
     },
     "execution_count": 39,
     "metadata": {},
     "output_type": "execute_result"
    },
    {
     "data": {
      "image/png": "[encoded data removed]",
      "text/plain": [
       "<Figure size 432x288 with 1 Axes>"
      ]
     },
     "metadata": {
      "needs_background": "light"
     },
     "output_type": "display_data"
    }
   ],
   "source": [
    "\"\"\"Visualization of the above calculations\"\"\"\n",
    "plt.plot(range(1,len(epsilon)+1),list(normalized_epsilon),\n",
    "            marker='o',linestyle='None')\n",
    "\n",
    "plt.ylabel('Mu Usage')\n",
    "plt.xlabel('m')\n",
    "plt.title('Scaled value')"
   ]
  },
  {
   "cell_type": "code",
   "execution_count": 40,
   "metadata": {},
   "outputs": [
    {
     "data": {
      "text/plain": [
       "'Determine which indices of the original mu were removed, incase the user wishes to remove more, and produce a\\nnew data set.'"
      ]
     },
     "execution_count": 40,
     "metadata": {},
     "output_type": "execute_result"
    }
   ],
   "source": [
    "\"\"\"Determine which indices of the original mu were removed, incase the user wishes to remove more, and produce a\n",
    "new data set.\"\"\"\n",
    "# print(d['removed_mus'])\n",
    "# print(d['mu'])"
   ]
  },
  {
   "cell_type": "code",
   "execution_count": null,
   "metadata": {},
   "outputs": [],
   "source": []
  },
  {
   "cell_type": "code",
   "execution_count": null,
   "metadata": {},
   "outputs": [],
   "source": []
  },
  {
   "cell_type": "code",
   "execution_count": null,
   "metadata": {},
   "outputs": [],
   "source": []
  },
  {
   "cell_type": "code",
   "execution_count": null,
   "metadata": {},
   "outputs": [],
   "source": []
  }
 ],
 "metadata": {
  "kernelspec": {
   "display_name": "Python 3",
   "language": "python",
   "name": "python3"
  },
  "language_info": {
   "codemirror_mode": {
    "name": "ipython",
    "version": 3
   },
   "file_extension": ".py",
   "mimetype": "text/x-python",
   "name": "python",
   "nbconvert_exporter": "python",
   "pygments_lexer": "ipython3",
   "version": "3.7.0"
  }
 },
 "nbformat": 4,
 "nbformat_minor": 2
}
