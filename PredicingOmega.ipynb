{
 "cells": [
  {
   "cell_type": "markdown",
   "metadata": {},
   "source": [
    "# Predicting Omega\n",
    "Given a trained network use this document to predict the values of Omega to produce a desired $J_{i,j}$.\n"
   ]
  },
  {
   "cell_type": "code",
   "execution_count": null,
   "metadata": {},
   "outputs": [],
   "source": [
    "import sys\n",
    "sys.path.insert(0, '')\n",
    "import classesmu\n",
    "from classesmu import BatchSimulatedSpinLattice as bsslmu\n",
    "from classesmu import SimulatedSpinLattice as sslmu\n",
    "import torch\n",
    "import torch.nn as nn\n",
    "from torch.utils.data import Dataset, DataLoader\n",
    "from torch.autograd import Variable\n",
    "import torch.nn.functional as F\n",
    "from torch.utils.data import Dataset, DataLoader\n",
    "import numpy as np\n",
    "import pickle\n",
    "import time\n",
    "import ic_functions\n",
    "from ic_functions import chain, circle, torch_normalized, np_normalized, noise_adder\n",
    "import neural_nets\n",
    "from neural_nets import Net\n",
    "import matplotlib.pyplot as plt\n",
    "import os\n",
    "from mpl_toolkits.mplot3d import Axes3D\n",
    "\n",
    "use_cuda = torch.cuda.is_available()\n",
    "device = torch.device(\"cuda\" if use_cuda else \"cpu\")"
   ]
  },
  {
   "cell_type": "markdown",
   "metadata": {},
   "source": [
    "## Instructions\n",
    "Enter the path of the saved model to the path variable."
   ]
  },
  {
   "cell_type": "code",
   "execution_count": null,
   "metadata": {},
   "outputs": [],
   "source": [
    "path = ''\n",
    "d = torch.load(path)\n",
    "\"\"\"The required items from the file are stored as variables.\"\"\"\n",
    "ic = d['ic']\n",
    "N=ic.n\n",
    "\n",
    "mu=d['mu']\n",
    "m=d['m']\n",
    "\n",
    "input_size = d['input_size']\n",
    "hidden_size = d['hidden_size']\n",
    "output_size = d['output_size']\n",
    "\n",
    "\"\"\"The trained model is loaded\"\"\"\n",
    "model = Net(input_size, hidden_size, output_size,1)\n",
    "model.load_state_dict(d['model_state_dict'])\n",
    "optimizer = torch.optim.Adam(model.parameters())\n",
    "optimizer.load_state_dict(d['optimizer_state_dict'])\n",
    "for state in optimizer.state.values():\n",
    "    for k, v in state.items():\n",
    "        if isinstance(v, torch.Tensor):\n",
    "            state[k] = v.double()\n",
    "\n",
    "model.double()\n",
    "\n"
   ]
  },
  {
   "cell_type": "markdown",
   "metadata": {},
   "source": [
    "## Instructions C'td\n",
    "Enter the desired $J_{i,j}$ value or set of values in the variable Jij. Note make sure the values are normalized by dividing by the L2-norm."
   ]
  },
  {
   "cell_type": "code",
   "execution_count": null,
   "metadata": {},
   "outputs": [],
   "source": [
    "\"\"\"Network Predictions\"\"\"\n",
    "Jij = chain(N)\n",
    "Jij = torch.from_numpy(np_normalized(Jij))\n",
    "if len(Jij.size())==1:\n",
    "    Omega_pred = model(Jij).view(1,N,m)\n",
    "else:\n",
    "    Omega_pred = model(Jij).view(Jij.size()[0],N,m)\n",
    "lattice = bsslmu(ic, mu, Omega_pred, dev=device)\n",
    "Jij_pred = lattice.normalize()\n",
    "Error = torch.mean(torch.abs(Jij-Jij_pred))*100\n",
    "print('Predicted Omega values\\n', Omega_pred)\n",
    "print('Desired Jijs\\n',Jij)\n",
    "print('Jijs give by Omegas predicted\\n', Jij_pred)\n",
    "print('Mean error\\n', Error.item())"
   ]
  },
  {
   "cell_type": "code",
   "execution_count": null,
   "metadata": {},
   "outputs": [],
   "source": [
    "\"\"\"A bar graph to help one visalize the scales of the desired and original Jijs for a single Jij\"\"\"\n",
    "if len(Jij.size())==1:\n",
    "    size_Jij = int(N*(N-1)/2)\n",
    "    x = range(1,size_Jij+1)\n",
    "\n",
    "    plt.figure(figsize=(size_Jij/4,5))\n",
    "\n",
    "    barWidth = 0.25\n",
    " \n",
    "    bars1 = list(Jij.numpy())\n",
    "    bars2 = list(Jij_pred.view(size_Jij).detach().numpy())\n",
    "\n",
    " \n",
    "    \n",
    "    r1 = [i - barWidth/2 for i in x]\n",
    "    r2 = [i + barWidth/2 for i in x]\n",
    "\n",
    "\n",
    " \n",
    "   \n",
    "    plt.bar(r1, bars1, width=barWidth, edgecolor='white', label='Original Jij')\n",
    "    plt.bar(r2, bars2, width=barWidth, edgecolor='white', label='Predicted Jij')\n",
    "\n",
    " \n",
    "    \n",
    "    plt.xlabel('Entry of Vectorized Jij', fontweight='bold')\n",
    "    plt.ylabel('Normalized Jij', fontweight='bold')\n",
    "    plt.title('N=13 Triangular Lattice', fontweight='bold')\n",
    " \n",
    "    \n",
    "    plt.legend()\n",
    "    plt.show()\n"
   ]
  },
  {
   "cell_type": "code",
   "execution_count": null,
   "metadata": {},
   "outputs": [],
   "source": [
    "\"\"\"A comparision of the absolute sizes of the Rabi frequencies corresponding to each detuning. Used to predict which\n",
    "mu value may be possible to eliminate and still retain some accuracy.\"\"\"\n",
    "numerator=torch.einsum('pnm->pm',[abs(Omega_pred)])\n",
    "denominator=torch.einsum('pnm->p',[abs(Omega_pred)])\n",
    "epsilon=torch.einsum('pm,p->m',[numerator,1/denominator])\n",
    "norm_epsilon=torch.sqrt((epsilon ** 2).sum(0))\n",
    "normalized_epsilon=epsilon/norm_epsilon"
   ]
  },
  {
   "cell_type": "code",
   "execution_count": null,
   "metadata": {},
   "outputs": [],
   "source": [
    "\"\"\"Visualization of the above calculations\"\"\"\n",
    "plt.plot(range(1,len(epsilon)+1),list(normalized_epsilon),\n",
    "            marker='o',linestyle='None')\n",
    "\n",
    "plt.ylabel('Mu Usage')\n",
    "plt.xlabel('m')\n",
    "plt.title('Scaled value')"
   ]
  },
  {
   "cell_type": "code",
   "execution_count": null,
   "metadata": {},
   "outputs": [],
   "source": [
    "\"\"\"Determine which indices of the original mu were removed, incase the user wishes to remove more, and produce a\n",
    "new data set.\"\"\"\n",
    "# print(d['removed_mus'])\n",
    "# print(d['mu'])"
   ]
  },
  {
   "cell_type": "code",
   "execution_count": null,
   "metadata": {},
   "outputs": [],
   "source": []
  },
  {
   "cell_type": "code",
   "execution_count": null,
   "metadata": {},
   "outputs": [],
   "source": []
  },
  {
   "cell_type": "code",
   "execution_count": null,
   "metadata": {},
   "outputs": [],
   "source": []
  },
  {
   "cell_type": "code",
   "execution_count": null,
   "metadata": {},
   "outputs": [],
   "source": []
  }
 ],
 "metadata": {
  "kernelspec": {
   "display_name": "Python 3",
   "language": "python",
   "name": "python3"
  },
  "language_info": {
   "codemirror_mode": {
    "name": "ipython",
    "version": 3
   },
   "file_extension": ".py",
   "mimetype": "text/x-python",
   "name": "python",
   "nbconvert_exporter": "python",
   "pygments_lexer": "ipython3",
   "version": "3.7.0"
  }
 },
 "nbformat": 4,
 "nbformat_minor": 2
}
